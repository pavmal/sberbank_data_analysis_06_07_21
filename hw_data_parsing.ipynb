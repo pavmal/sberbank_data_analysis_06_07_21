{
 "cells": [
  {
   "cell_type": "markdown",
   "metadata": {},
   "source": [
    "# <p style=\"align: center;\"><img align=center src=\"https://i.morioh.com/201217/97aa18aa.webp\"  width=700></p>\n"
   ]
  },
  {
   "cell_type": "markdown",
   "metadata": {},
   "source": [
    "# Домашнее задание (парсинг фильмов)"
   ]
  },
  {
   "cell_type": "markdown",
   "metadata": {},
   "source": [
    "* Сайт: https://www.kinopoisk.ru/lists/top250/\n",
    "\n",
    "\n",
    "* a. Спарсить название фильмов из топ-250.\n",
    "* b. Спарсить рейтинг фильмов\n",
    "* c.  Спарсить отзывы (необязательно)"
   ]
  },
  {
   "cell_type": "code",
   "execution_count": 109,
   "metadata": {},
   "outputs": [],
   "source": [
    "# !pip install selenium\n",
    "# !pip install webdriver-manager\n",
    "\n",
    "# Может понадобиться еще:\n",
    "# !pip install --upgrade ChromeDriver"
   ]
  },
  {
   "cell_type": "code",
   "execution_count": 3,
   "metadata": {},
   "outputs": [],
   "source": [
    "import requests\n",
    "from bs4 import BeautifulSoup\n",
    "import pandas as pd\n",
    "\n",
    "import warnings\n",
    "warnings.filterwarnings(\"ignore\")"
   ]
  },
  {
   "cell_type": "code",
   "execution_count": 4,
   "metadata": {},
   "outputs": [],
   "source": [
    "from selenium import webdriver\n",
    "from webdriver_manager.chrome import ChromeDriverManager"
   ]
  },
  {
   "cell_type": "code",
   "execution_count": 5,
   "metadata": {},
   "outputs": [],
   "source": [
    "import time\n",
    "import pandas as pd\n",
    "from tqdm import tqdm"
   ]
  },
  {
   "cell_type": "code",
   "execution_count": 6,
   "metadata": {},
   "outputs": [],
   "source": [
    "from selenium.webdriver.common.by import By\n",
    "from selenium.webdriver.support.ui import WebDriverWait\n",
    "from selenium.webdriver.support import expected_conditions as EC"
   ]
  },
  {
   "cell_type": "code",
   "execution_count": 173,
   "metadata": {},
   "outputs": [
    {
     "name": "stdout",
     "output_type": "stream",
     "text": [
      "no\n"
     ]
    }
   ],
   "source": [
    "path_CDM = './chromedriver' # path to ChromeDriverManager\n",
    "driver = webdriver.Chrome(path_CDM)\n",
    "\n",
    "film_list = []\n",
    "\n",
    "try:\n",
    "    browser = webdriver.Chrome(path_CDM)\n",
    "    browser.get('https://www.kinopoisk.ru/lists/top250') #Открыл \n",
    "    time.sleep(3)\n",
    "    # не понял, по каким тегам найти наименование фильма, поэтому сделал через обработку list of strings\n",
    "    films = soup.find_all('img', class_=\"selection-film-item-poster__image image-partial-component _12xtW0ru9JBdp6H6D23foa CIAcnTIOMz_cEIhVn6aUO\")\n",
    "\n",
    "    \n",
    "except ElementClickInterceptedException:\n",
    "    print('Ошибка')\n",
    "    print(e)\n",
    "    \n",
    "finally:\n",
    "    time.sleep(1)\n",
    "    browser.quit()\n",
    "\n",
    "for film in films:\n",
    "    a = str(film).find('\"', 1, len(str(film)))\n",
    "    b = str(film).find('\"', a+1, len(str(film))-a)\n",
    "    film_list.append(str(film)[a+1:b])\n",
    "\n",
    "film_list[:5]"
   ]
  },
  {
   "cell_type": "code",
   "execution_count": 169,
   "metadata": {},
   "outputs": [
    {
     "name": "stdout",
     "output_type": "stream",
     "text": [
      "8.9\n"
     ]
    },
    {
     "data": {
      "text/plain": [
       "['8.9', '8.9', '8.8', '8.8', '8.7']"
      ]
     },
     "execution_count": 169,
     "metadata": {},
     "output_type": "execute_result"
    }
   ],
   "source": [
    "rating_list = []\n",
    "\n",
    "browser = webdriver.Chrome(path_CDM)\n",
    "browser.get('https://www.kinopoisk.ru/lists/top250') #Открыл \n",
    "time.sleep(3)\n",
    "\n",
    "#ratings = soup.find_all('span', class_=\"rating__value rating__value_positive\")\n",
    "ratings = soup.find_all('span', {'class': 'rating__value rating__value_positive'})\n",
    "\n",
    "browser.quit()\n",
    "\n",
    "# в данном случае молучилось извлечь текст красивее\n",
    "for rating in ratings:\n",
    "    rating_list.append(rating.text)\n",
    "\n",
    "rating_list[:5]"
   ]
  },
  {
   "cell_type": "code",
   "execution_count": 161,
   "metadata": {},
   "outputs": [
    {
     "name": "stdout",
     "output_type": "stream",
     "text": [
      "Список найденных фильмов:\n",
      "\n",
      "Побег из Шоушенка: 8.9\n",
      "Зеленая миля: 8.9\n",
      "Властелин колец: Возвращение короля: 8.8\n",
      "Властелин колец: Две крепости: 8.8\n",
      "Властелин колец: Братство Кольца: 8.7\n",
      "Интерстеллар: 8.7\n",
      "Форрест Гамп: 8.6\n",
      "Иван Васильевич меняет профессию: 8.6\n",
      "Список Шиндлера: 8.6\n",
      "Король Лев: 8.6\n",
      "Тайна Коко: 8.6\n",
      "Клаус: 8.6\n",
      "Назад в будущее: 8.6\n",
      "Криминальное чтиво: 8.5\n",
      "Карты, деньги, два ствола: 8.5\n",
      "ВАЛЛ·И: 8.5\n",
      "Друзья: Воссоединение: 8.5\n",
      "Начало: 8.5\n",
      "Унесённые призраками: 8.5\n",
      "Операция «Ы» и другие приключения Шурика: 8.5\n",
      "В бой идут одни «старики»: 8.5\n",
      "1+1: 8.5\n",
      "Джентльмены удачи: 8.5\n",
      "Большой куш: 8.5\n",
      "Приключения Шерлока Холмса и доктора Ватсона: Собака Баскервилей: 8.5\n",
      "Остров проклятых: 8.4\n",
      "Достучаться до небес: 8.4\n",
      "Матрица: 8.4\n",
      "Бойцовский клуб: 8.4\n",
      "Пираты Карибского моря: Проклятие Черной жемчужины: 8.4\n",
      "Москва слезам не верит: 8.4\n",
      "Джентльмены: 8.4\n",
      "Престиж: 8.4\n",
      "12 разгневанных мужчин: 8.4\n",
      "...А зори здесь тихие: 8.4\n",
      "Шрэк: 8.4\n",
      "Душа: 8.4\n",
      "Брат: 8.4\n",
      "Один дома: 8.3\n",
      "Темный рыцарь: 8.3\n",
      "Остров сокровищ: 8.3\n",
      "Гарри Поттер и узник Азкабана: 8.3\n",
      "Гарри Поттер и философский камень: 8.3\n",
      "Терминатор 2: Судный день: 8.3\n",
      "Назад в будущее 2: 8.3\n",
      "Джанго освобожденный: 8.3\n",
      "Игры разума: 8.3\n",
      "Леон: 8.3\n",
      "Гладиатор: 8.3\n",
      "Одержимость: 8.3\n"
     ]
    }
   ],
   "source": [
    "# вывел список только 1-й страницы. Не хватило времени поглубже вникнуть в тему\n",
    "\n",
    "print('Список найденных фильмов:\\n')\n",
    "for i in range(len(film_list)):\n",
    "    print(film_list[i] + \": \" + rating_list[i])"
   ]
  },
  {
   "cell_type": "code",
   "execution_count": null,
   "metadata": {},
   "outputs": [],
   "source": []
  }
 ],
 "metadata": {
  "kernelspec": {
   "display_name": "Python 3",
   "language": "python",
   "name": "python3"
  },
  "language_info": {
   "codemirror_mode": {
    "name": "ipython",
    "version": 3
   },
   "file_extension": ".py",
   "mimetype": "text/x-python",
   "name": "python",
   "nbconvert_exporter": "python",
   "pygments_lexer": "ipython3",
   "version": "3.8.8"
  },
  "toc": {
   "base_numbering": 1,
   "nav_menu": {},
   "number_sections": true,
   "sideBar": true,
   "skip_h1_title": false,
   "title_cell": "Table of Contents",
   "title_sidebar": "Contents",
   "toc_cell": false,
   "toc_position": {},
   "toc_section_display": true,
   "toc_window_display": false
  }
 },
 "nbformat": 4,
 "nbformat_minor": 4
}
